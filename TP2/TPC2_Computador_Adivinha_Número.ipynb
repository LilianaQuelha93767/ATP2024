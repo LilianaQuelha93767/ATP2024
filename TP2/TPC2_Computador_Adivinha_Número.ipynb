{
 "cells": [
  {
   "cell_type": "markdown",
   "id": "9439a655",
   "metadata": {},
   "source": [
    "## Manifesto do TPC2\n",
    "* *Identificador:* Algoritmos e Técnicas de Programação\n",
    "* *Título:* Jogo de Adivinha o Nº em que estou a Pensar\n",
    "* *Data de início:* 2024-09-21\n",
    "* *Data de fim:* 2024-09-24\n",
    "* *Supervisor:* José Carlos Leite Ramalho, jcr@di.uminho.pt; Luís Filipe Cunha, lfc@di.uminho.pt;\n",
    "* *Autor:* Liliana Miranda Quelha A93767\n",
    "* *Resumo:* Este trabalho tem como objetivo desenvolver um jogo em que o computador adivinha o número em que estamos a pensar através da **procura binária** em que o computador pensa num número e utilizador tenta adivinhar ou o utilizador pensa num número (entre 0 e 100) e o computador tenta adivinhar. O programa deve dar dicas em cada tentativa para ajudar a adivinhar o número e após ser adivinhado o número deve indicar quantas tentativas foram necessárias para chegar ao número correto."
   ]
  },
  {
   "cell_type": "code",
   "execution_count": null,
   "id": "787e1621",
   "metadata": {},
   "outputs": [],
   "source": [
    "def adivinha_numero(numero):\n",
    "    esquerda = 0\n",
    "    direita = 100\n",
    "    adivinha = (esquerda+direita)//2\n",
    "    while adivinha != numero:\n",
    "        adivinha = (esquerda+direita)//2\n",
    "        print(\"O computador está a tentar adivinhar o número em que pensou...\", adivinha)\n",
    "        if adivinha > numero:\n",
    "            direita = adivinha\n",
    "        elif adivinha < numero:\n",
    "            esquerda = adivinha + 1\n",
    "    print(\"O computator escolheu o número\", adivinha, \"e escolheu correctamente!\")\n",
    "            \n",
    "def main():\n",
    "    numero = int(input(\"Insira o número em que pensou:\"))\n",
    "    if numero < 0 or numero > 100:\n",
    "        print(\"O número deve ser entre 1 e 100.\")\n",
    "    else:\n",
    "        adivinha_numero(numero)\n",
    "if __name__ == '__main__':\n",
    "    main()"
   ]
  },
  {
   "cell_type": "code",
   "execution_count": 12,
   "id": "f827068a",
   "metadata": {},
   "outputs": [
    {
     "name": "stdout",
     "output_type": "stream",
     "text": [
      "Escolha o modo de jogo (computador ou utilizador): c\n",
      "Pense em um número entre 0 e 100: 13\n",
      "O computador adivinhou: 38\n",
      "Acertei? Ou o número é maior? Ou menor? Responda '+', '-' ou 'sim': -\n",
      "O computador adivinhou: 26\n",
      "Acertei? Ou o número é maior? Ou menor? Responda '+', '-' ou 'sim': -\n",
      "O computador adivinhou: 8\n",
      "Acertei? Ou o número é maior? Ou menor? Responda '+', '-' ou 'sim': +\n",
      "O computador adivinhou: 15\n",
      "Acertei? Ou o número é maior? Ou menor? Responda '+', '-' ou 'sim': -\n",
      "O computador adivinhou: 12\n",
      "Acertei? Ou o número é maior? Ou menor? Responda '+', '-' ou 'sim': +\n",
      "O computador adivinhou: 13\n",
      "Acertei? Ou o número é maior? Ou menor? Responda '+', '-' ou 'sim': sim\n",
      "O computator escolheu o número 13 e escolheu correctamente! Acertour em: 6 tentativas\n"
     ]
    }
   ],
   "source": [
    "import random\n",
    "\n",
    "def adivinha_numero_computador():\n",
    "    numero_escolhido = int(input(\"Pense em um número entre 0 e 100: \"))\n",
    "    tentativas = 0\n",
    "    esquerda = 0\n",
    "    direita = 100\n",
    "    while True:\n",
    "        tentativa = random.randint(esquerda, direita)\n",
    "        print(f\"O computador adivinhou: {tentativa}\")\n",
    "        tentativas += 1\n",
    "        resposta = input(\"Acertei? Ou o número é maior? Ou menor? Responda '+', '-' ou 'sim': \").lower()\n",
    "        if resposta == \"sim\":\n",
    "            print(\"O computator escolheu o número\", tentativa, \"e escolheu correctamente! Demorou\", tentativas, \"tentativas para chegar ao resultado correto.\")\n",
    "            break\n",
    "        elif resposta == \"+\":\n",
    "            esquerda = tentativa + 1\n",
    "        elif resposta == \"-\":\n",
    "            direita = tentativa - 1\n",
    "\n",
    "def adivinha_numero_utilizador():\n",
    "    numero_escolhido = random.randint(0, 100)\n",
    "    tentativas = 0\n",
    "    \n",
    "    while True:\n",
    "        tentativa = int(input(\"Tente adivinhar o número entre 0 e 100: \"))\n",
    "        tentativas += 1\n",
    "        if tentativa == numero_escolhido:\n",
    "            print(f\"Certo! Acertou em {tentativas} tentativas!\")\n",
    "            break\n",
    "        elif tentativa < numero_escolhido:\n",
    "            print(\"Não é.Tente um número maior.\")\n",
    "        else:\n",
    "            print(\"Não é.Tente um número menor.\")\n",
    "\n",
    "modo = input(\"Escolha o modo de jogo (computador ou utilizador): \").lower()\n",
    "\n",
    "if modo == \"c\":\n",
    "    adivinha_numero_computador()\n",
    "elif modo == \"u\":\n",
    "    adivinha_numero_utilizador()\n",
    "else:\n",
    "    print(\"Modo de jogo inválido. Escolha 'c' ou 'u'.\")\n"
   ]
  },
  {
   "cell_type": "code",
   "execution_count": null,
   "id": "a5a2e40b",
   "metadata": {},
   "outputs": [],
   "source": []
  }
 ],
 "metadata": {
  "kernelspec": {
   "display_name": "Python 3",
   "language": "python",
   "name": "python3"
  },
  "language_info": {
   "codemirror_mode": {
    "name": "ipython",
    "version": 3
   },
   "file_extension": ".py",
   "mimetype": "text/x-python",
   "name": "python",
   "nbconvert_exporter": "python",
   "pygments_lexer": "ipython3",
   "version": "3.8.8"
  }
 },
 "nbformat": 4,
 "nbformat_minor": 5
}
